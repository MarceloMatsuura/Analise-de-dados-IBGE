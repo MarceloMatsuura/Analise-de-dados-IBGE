{
 "cells": [
  {
   "cell_type": "code",
   "execution_count": 133,
   "metadata": {},
   "outputs": [],
   "source": [
    "#Importando pacotes\n",
    "import matplotlib.pyplot as plt\n",
    "import pandas as pd\n",
    "import requests as req\n",
    "from statsmodels.graphics.tsaplots import quarter_plot\n",
    "import numpy as np\n",
    "from matplotlib.backends.backend_pdf import PdfPages\n",
    "import seaborn as sns\n",
    "import warnings\n",
    "\n",
    "warnings.filterwarnings(\"ignore\", category=DeprecationWarning)\n",
    "warnings.filterwarnings(\"ignore\", category=FutureWarning)\n",
    "\n"
   ]
  },
  {
   "cell_type": "code",
   "execution_count": 111,
   "metadata": {},
   "outputs": [],
   "source": [
    "url = 'https://apisidra.ibge.gov.br/values/t/5932/n1/all/v/6561,6562,6563,6564/p/all/c11255/90687,90691,90696,90707,93404,93405,93406,93407,93408/d/v6561%201'\n",
    "r = req.get(url)\n",
    "raw = r.json()"
   ]
  },
  {
   "cell_type": "code",
   "execution_count": 141,
   "metadata": {},
   "outputs": [],
   "source": [
    "# CRIANDO AS FUNÇÕES NECESSÁRIAS\n",
    "\n",
    "\n",
    "\n",
    "def create_df(var, begin=1996):\n",
    "    '''\n",
    "    Essa função separa os dataframe bruto entre as variáveis 6561,6562,6563,6564\n",
    "    Ela trata os dados e inclui no dicionário var_dict onde a key é a variável e o value é o dataframe\n",
    "    var é a variável\n",
    "    begin determina quando inicia os dados, para filtrar bast alterar o ano\n",
    "    '''\n",
    "    df_var = df.loc[df['Variável (Código)']==var].copy()\n",
    "    df_var['Trimestre (Código)'] = df_var['Trimestre (Código)'].map(str).str[:4] + 'Q' + df_var['Trimestre (Código)'].map(str).str[-1]\n",
    "    df_var['ano'] = df_var['Trimestre (Código)'].map(str).str[:4]\n",
    "    df_var = df_var.apply(pd.to_numeric, errors='ignore')\n",
    "    df_var['Trimestre'] = pd.to_datetime(df_var['Trimestre (Código)']).dt.to_period('Q')\n",
    "    df_var['Trimestre (string)'] = df_var['Trimestre'].astype('str')\n",
    "    df_var = df_var.loc[df_var['Trimestre'].dt.year >=2003]\n",
    "    var_dict[var] = df_var\n",
    "\n",
    "\n",
    "def plot_sector(var, sector):\n",
    "    '''\n",
    "    Está função gera um gráfico para uma determinada variável e setor do PIB, os valores dizem respeito\n",
    "    a variação de volume\n",
    "    var é a variável que pode ser 6561,6562,6563,6564 para a descrição visite https://apisidra.ibge.gov.br\n",
    "    sector é setor do PIB\n",
    "    '''\n",
    "    dict_convert = {'Agropecuária - total': 'Agropecuária', \n",
    "                    'Indústria - total':'Indústria',\n",
    "                    'Serviços - total':'Serviços',\n",
    "                    'PIB a preços de mercado':'PIB',\n",
    "                    'Despesa de consumo das famílias':'Consumo das Famílias',\n",
    "                    'Despesa de consumo da administração pública':'Consumo do Governo',\n",
    "                    'Formação bruta de capital fixo':'FBKF',\n",
    "                    'Exportação de bens e serviços':'Exportação',\n",
    "                    'Importação de bens e serviços':'Importação'}\n",
    "    \n",
    "    title = dict_convert[sector]\n",
    "    var = str(var)\n",
    "    data = var_dict[var]\n",
    "    data[['Valor', 'Setores e subsetores', 'Trimestre', 'Trimestre (string)', 'ano']] #colunas de interesse\n",
    "    line = data[data['Setores e subsetores']==sector] #filtra o setor\n",
    "    line.reset_index(inplace=True, drop=True)\n",
    "    last_year = line['ano'].values[-1]\n",
    "    last_year = (line['ano'] == last_year).idxmax()\n",
    "\n",
    "    #Início do Plot\n",
    "    plt.figure(figsize=(8, 4))\n",
    "    palette = np.where(line['Valor'] >= 0, 'blue', 'red')\n",
    "    #sns.lineplot(x='Trimestre (string)', y='Valor', data=line, marker='', linestyle='-')\n",
    "    sns.barplot(x='Trimestre (string)', y='Valor', data=line, palette=palette)\n",
    "\n",
    "    plt.xlabel('Data')\n",
    "    plt.ylabel('%', rotation=0)\n",
    "\n",
    "    # configurando os xticks\n",
    "    locs, _ = plt.xticks()\n",
    "    ticks_positions = list(np.arange(locs[0], locs[-1], 20)) + [last_year]\n",
    "    plt.xticks(ticks_positions, line['ano'][ticks_positions])\n",
    "\n",
    "\n",
    "    # cria anotação no gráfico\n",
    "    plt.annotate('fonte: IBGE, elaboração própria', (0, 0), (0, -30),\n",
    "                fontsize=10, xycoords='axes fraction', textcoords='offset points', va='top')\n",
    "\n",
    "    # cria o título\n",
    "\n",
    "    plt.title(f'{title} (Variação QoQ interanual)', fontsize=14)\n",
    "\n",
    "#\n",
    "    "
   ]
  },
  {
   "cell_type": "code",
   "execution_count": 129,
   "metadata": {},
   "outputs": [
    {
     "name": "stderr",
     "output_type": "stream",
     "text": [
      "C:\\Users\\mkenj\\AppData\\Local\\Temp\\ipykernel_22428\\316571898.py:16: UserWarning: Could not infer format, so each element will be parsed individually, falling back to `dateutil`. To ensure parsing is consistent and as-expected, please specify a format.\n",
      "  df_var['Trimestre'] = pd.to_datetime(df_var['Trimestre (Código)']).dt.to_period('Q')\n",
      "C:\\Users\\mkenj\\AppData\\Local\\Temp\\ipykernel_22428\\316571898.py:16: UserWarning: Could not infer format, so each element will be parsed individually, falling back to `dateutil`. To ensure parsing is consistent and as-expected, please specify a format.\n",
      "  df_var['Trimestre'] = pd.to_datetime(df_var['Trimestre (Código)']).dt.to_period('Q')\n",
      "C:\\Users\\mkenj\\AppData\\Local\\Temp\\ipykernel_22428\\316571898.py:16: UserWarning: Could not infer format, so each element will be parsed individually, falling back to `dateutil`. To ensure parsing is consistent and as-expected, please specify a format.\n",
      "  df_var['Trimestre'] = pd.to_datetime(df_var['Trimestre (Código)']).dt.to_period('Q')\n",
      "C:\\Users\\mkenj\\AppData\\Local\\Temp\\ipykernel_22428\\316571898.py:16: UserWarning: Could not infer format, so each element will be parsed individually, falling back to `dateutil`. To ensure parsing is consistent and as-expected, please specify a format.\n",
      "  df_var['Trimestre'] = pd.to_datetime(df_var['Trimestre (Código)']).dt.to_period('Q')\n"
     ]
    }
   ],
   "source": [
    "df = pd.DataFrame(raw)\n",
    "df.columns = df.iloc[0]\n",
    "df.drop(0, inplace=True)\n",
    "df.drop(df.columns[[0,1,2,3,5,6,8,10,11]], axis=1, inplace=True)\n",
    "\n",
    "\n",
    "var_dict = {}\n",
    "\n",
    "\n",
    "\n",
    "#ANÁLISE PIB Trimestral Volume TABELA 5932\n",
    "for var in list(df['Variável (Código)'].unique()):\n",
    "    create_df(var,2004)\n",
    "\n",
    "\n",
    "#A lista de setores está na set_list\n",
    "set_list = list(df['Setores e subsetores'].unique())"
   ]
  },
  {
   "cell_type": "code",
   "execution_count": 142,
   "metadata": {},
   "outputs": [
    {
     "data": {
      "image/png": "[encoded data removed]",
      "text/plain": [
       "<Figure size 800x400 with 1 Axes>"
      ]
     },
     "metadata": {},
     "output_type": "display_data"
    }
   ],
   "source": [
    "plot_sector(6561, set_list[0])"
   ]
  }
 ],
 "metadata": {
  "kernelspec": {
   "display_name": "research",
   "language": "python",
   "name": "python3"
  },
  "language_info": {
   "codemirror_mode": {
    "name": "ipython",
    "version": 3
   },
   "file_extension": ".py",
   "mimetype": "text/x-python",
   "name": "python",
   "nbconvert_exporter": "python",
   "pygments_lexer": "ipython3",
   "version": "3.9.18"
  }
 },
 "nbformat": 4,
 "nbformat_minor": 2
}
